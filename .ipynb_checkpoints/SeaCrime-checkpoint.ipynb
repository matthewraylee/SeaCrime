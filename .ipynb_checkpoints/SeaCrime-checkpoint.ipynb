{
 "cells": [
  {
   "cell_type": "markdown",
   "id": "dfc40fc4-4f74-46bb-bb59-dade026f36ce",
   "metadata": {},
   "source": [
    "# **Seattle Crime Exploratory Data Analysis**\n",
    "**Author**: Matthew Lee\\\n",
    "**Date**: 25 September 2024\\\n",
    "**Project Description**:  \n",
    "This project explores Seattle's crime data using records from the Seattle Police Department from 2008. The objective is to clean the data, perform exploratory data analysis (EDA), and identify key patterns and trends.\n",
    "\n",
    "[Data source: SPD Crime Data 2008-Present](https://data.seattle.gov/Public-Safety/SPD-Crime-Data-2008-Present/tazs-3rd5/about_data)\n",
    "___\n",
    "## **Table of Contents**\n",
    "1. [Project Setup](#Project-Setup)  \n",
    "   1.1 [Importing Libraries](#Importing-Libraries)  \n",
    "   1.2 [Loading the Data](#Loading-the-Data)  [Data Cleaning](#Data-Cleaning)\n",
    "2. [Data Cleaning](#Data-Cleaning)  \n",
    "   2.1 [Handling Missing Values](#Handling-Missing-Values)  \n",
    "   2.2 [Removing Duplicates](#Removing-Duplicates)  \n",
    "   2.3 [Converting Data Types](#Converting-Data-Types)  \n",
    "3. [Exploratory Data Analysis (EDA)](#Exploratory-Data-Analysis)  \n",
    "   3.1 [Basic Data Summary](#Basic-Data-Summary)  \n",
    "   3.2 [Crimes Over Time](#Crimes-Over-Time)  \n",
    "   3.3 [Crime Types Distribution](#Crime-Types-Distribution)  \n",
    "6. [Grouping and Aggregating Data](#Grouping-and-Aggregating-Data)  \n",
    "   5.1 [Most Common Crime Types](#Most-Common-Crime-Types)  \n",
    "   5.2 [Crimes by Neighborhood](#Crimes-by-Neighborhood)  \n",
    "7. [Further Analysis](#Further-Analysis)  \n",
    "   6.1 [Crime Trends Over Time](#Crime-Trends-Over-Time)  \n",
    "8. [Conclusion](#Conclusion)  \n",
    "   7.1 [Summary of Findings](#Summary-of-Findings)\n",
    "___"
   ]
  },
  {
   "cell_type": "markdown",
   "id": "c3c998db-2ec9-43ef-bb2f-6b218270a9b9",
   "metadata": {},
   "source": [
    "## **1. Project Setup** <a id=\"Project-Setup\"></a>"
   ]
  },
  {
   "cell_type": "markdown",
   "id": "a63257fb-2d3a-4a3c-bd5b-284307ad88d8",
   "metadata": {},
   "source": [
    "### **1.1 Importing Libraries** <a id=\"Importing-Libraries\"></a>\n",
    "Import necessary libraries: pandas, matplotlib, and seaborn"
   ]
  },
  {
   "cell_type": "code",
   "execution_count": 4,
   "id": "58f76c8f-43da-4e58-bb43-54e5d42c9d8e",
   "metadata": {},
   "outputs": [],
   "source": [
    "import pandas as pd\n",
    "import matplotlib.pyplot as plt\n",
    "import seaborn as sns"
   ]
  },
  {
   "cell_type": "markdown",
   "id": "7b9f595d-d716-456b-b9b1-8144bf55e4c6",
   "metadata": {},
   "source": [
    "### **1.2 Loading the Data** <a id=\"Loading-the-Data\"></a>\n",
    "Load the crime dataset from csv file downloaded from SPD website and display the first few rows."
   ]
  },
  {
   "cell_type": "code",
   "execution_count": 6,
   "id": "90bf3faa-4bf2-4d6c-9da5-0fc7441af0be",
   "metadata": {},
   "outputs": [
    {
     "data": {
      "text/html": [
       "<div>\n",
       "<style scoped>\n",
       "    .dataframe tbody tr th:only-of-type {\n",
       "        vertical-align: middle;\n",
       "    }\n",
       "\n",
       "    .dataframe tbody tr th {\n",
       "        vertical-align: top;\n",
       "    }\n",
       "\n",
       "    .dataframe thead th {\n",
       "        text-align: right;\n",
       "    }\n",
       "</style>\n",
       "<table border=\"1\" class=\"dataframe\">\n",
       "  <thead>\n",
       "    <tr style=\"text-align: right;\">\n",
       "      <th></th>\n",
       "      <th>Report Number</th>\n",
       "      <th>Offense ID</th>\n",
       "      <th>Offense Start DateTime</th>\n",
       "      <th>Offense End DateTime</th>\n",
       "      <th>Report DateTime</th>\n",
       "      <th>Group A B</th>\n",
       "      <th>Crime Against Category</th>\n",
       "      <th>Offense Parent Group</th>\n",
       "      <th>Offense</th>\n",
       "      <th>Offense Code</th>\n",
       "      <th>Precinct</th>\n",
       "      <th>Sector</th>\n",
       "      <th>Beat</th>\n",
       "      <th>MCPP</th>\n",
       "      <th>100 Block Address</th>\n",
       "      <th>Longitude</th>\n",
       "      <th>Latitude</th>\n",
       "    </tr>\n",
       "  </thead>\n",
       "  <tbody>\n",
       "    <tr>\n",
       "      <th>0</th>\n",
       "      <td>2020-044620</td>\n",
       "      <td>12605873663</td>\n",
       "      <td>02/05/2020 10:10:00 AM</td>\n",
       "      <td>NaN</td>\n",
       "      <td>02/05/2020 11:24:31 AM</td>\n",
       "      <td>A</td>\n",
       "      <td>SOCIETY</td>\n",
       "      <td>DRUG/NARCOTIC OFFENSES</td>\n",
       "      <td>Drug/Narcotic Violations</td>\n",
       "      <td>35A</td>\n",
       "      <td>W</td>\n",
       "      <td>Q</td>\n",
       "      <td>Q1</td>\n",
       "      <td>MAGNOLIA</td>\n",
       "      <td>32XX BLOCK OF 23RD AVE W</td>\n",
       "      <td>-122.385974</td>\n",
       "      <td>47.649387</td>\n",
       "    </tr>\n",
       "    <tr>\n",
       "      <th>1</th>\n",
       "      <td>2020-044452</td>\n",
       "      <td>12605598696</td>\n",
       "      <td>02/03/2020 08:00:00 AM</td>\n",
       "      <td>02/04/2020 08:00:00 AM</td>\n",
       "      <td>02/05/2020 10:06:28 AM</td>\n",
       "      <td>A</td>\n",
       "      <td>PROPERTY</td>\n",
       "      <td>LARCENY-THEFT</td>\n",
       "      <td>Theft of Motor Vehicle Parts or Accessories</td>\n",
       "      <td>23G</td>\n",
       "      <td>N</td>\n",
       "      <td>J</td>\n",
       "      <td>J3</td>\n",
       "      <td>ROOSEVELT/RAVENNA</td>\n",
       "      <td>63XX BLOCK OF 5TH AVE NE</td>\n",
       "      <td>-122.323399</td>\n",
       "      <td>47.675118</td>\n",
       "    </tr>\n",
       "    <tr>\n",
       "      <th>2</th>\n",
       "      <td>2020-044465</td>\n",
       "      <td>12605567653</td>\n",
       "      <td>02/02/2020 08:30:00 PM</td>\n",
       "      <td>02/02/2020 09:30:00 PM</td>\n",
       "      <td>02/05/2020 09:39:33 AM</td>\n",
       "      <td>A</td>\n",
       "      <td>PROPERTY</td>\n",
       "      <td>ROBBERY</td>\n",
       "      <td>Robbery</td>\n",
       "      <td>120</td>\n",
       "      <td>N</td>\n",
       "      <td>U</td>\n",
       "      <td>U3</td>\n",
       "      <td>ROOSEVELT/RAVENNA</td>\n",
       "      <td>26TH AVE NE / NE BLAKELEY ST</td>\n",
       "      <td>-122.299552</td>\n",
       "      <td>47.666384</td>\n",
       "    </tr>\n",
       "    <tr>\n",
       "      <th>3</th>\n",
       "      <td>2020-044225</td>\n",
       "      <td>12605174036</td>\n",
       "      <td>02/05/2020 01:17:00 AM</td>\n",
       "      <td>02/05/2020 02:21:00 AM</td>\n",
       "      <td>02/05/2020 03:30:55 AM</td>\n",
       "      <td>A</td>\n",
       "      <td>PROPERTY</td>\n",
       "      <td>DESTRUCTION/DAMAGE/VANDALISM OF PROPERTY</td>\n",
       "      <td>Destruction/Damage/Vandalism of Property</td>\n",
       "      <td>290</td>\n",
       "      <td>W</td>\n",
       "      <td>Q</td>\n",
       "      <td>Q1</td>\n",
       "      <td>MAGNOLIA</td>\n",
       "      <td>22XX BLOCK OF W RAYE ST</td>\n",
       "      <td>-122.384865</td>\n",
       "      <td>47.642927</td>\n",
       "    </tr>\n",
       "    <tr>\n",
       "      <th>4</th>\n",
       "      <td>2020-044076</td>\n",
       "      <td>12605081469</td>\n",
       "      <td>02/05/2020 12:51:21 AM</td>\n",
       "      <td>NaN</td>\n",
       "      <td>02/05/2020 12:51:31 AM</td>\n",
       "      <td>B</td>\n",
       "      <td>SOCIETY</td>\n",
       "      <td>DRIVING UNDER THE INFLUENCE</td>\n",
       "      <td>Driving Under the Influence</td>\n",
       "      <td>90D</td>\n",
       "      <td>N</td>\n",
       "      <td>B</td>\n",
       "      <td>B2</td>\n",
       "      <td>BALLARD SOUTH</td>\n",
       "      <td>NW 46TH ST / 8TH AVE NW</td>\n",
       "      <td>-122.366195</td>\n",
       "      <td>47.662193</td>\n",
       "    </tr>\n",
       "  </tbody>\n",
       "</table>\n",
       "</div>"
      ],
      "text/plain": [
       "  Report Number   Offense ID  Offense Start DateTime    Offense End DateTime  \\\n",
       "0   2020-044620  12605873663  02/05/2020 10:10:00 AM                     NaN   \n",
       "1   2020-044452  12605598696  02/03/2020 08:00:00 AM  02/04/2020 08:00:00 AM   \n",
       "2   2020-044465  12605567653  02/02/2020 08:30:00 PM  02/02/2020 09:30:00 PM   \n",
       "3   2020-044225  12605174036  02/05/2020 01:17:00 AM  02/05/2020 02:21:00 AM   \n",
       "4   2020-044076  12605081469  02/05/2020 12:51:21 AM                     NaN   \n",
       "\n",
       "          Report DateTime Group A B Crime Against Category  \\\n",
       "0  02/05/2020 11:24:31 AM         A                SOCIETY   \n",
       "1  02/05/2020 10:06:28 AM         A               PROPERTY   \n",
       "2  02/05/2020 09:39:33 AM         A               PROPERTY   \n",
       "3  02/05/2020 03:30:55 AM         A               PROPERTY   \n",
       "4  02/05/2020 12:51:31 AM         B                SOCIETY   \n",
       "\n",
       "                       Offense Parent Group  \\\n",
       "0                    DRUG/NARCOTIC OFFENSES   \n",
       "1                             LARCENY-THEFT   \n",
       "2                                   ROBBERY   \n",
       "3  DESTRUCTION/DAMAGE/VANDALISM OF PROPERTY   \n",
       "4               DRIVING UNDER THE INFLUENCE   \n",
       "\n",
       "                                       Offense Offense Code Precinct Sector  \\\n",
       "0                     Drug/Narcotic Violations          35A        W      Q   \n",
       "1  Theft of Motor Vehicle Parts or Accessories          23G        N      J   \n",
       "2                                      Robbery          120        N      U   \n",
       "3     Destruction/Damage/Vandalism of Property          290        W      Q   \n",
       "4                  Driving Under the Influence          90D        N      B   \n",
       "\n",
       "  Beat               MCPP             100 Block Address   Longitude   Latitude  \n",
       "0   Q1           MAGNOLIA      32XX BLOCK OF 23RD AVE W -122.385974  47.649387  \n",
       "1   J3  ROOSEVELT/RAVENNA      63XX BLOCK OF 5TH AVE NE -122.323399  47.675118  \n",
       "2   U3  ROOSEVELT/RAVENNA  26TH AVE NE / NE BLAKELEY ST -122.299552  47.666384  \n",
       "3   Q1           MAGNOLIA       22XX BLOCK OF W RAYE ST -122.384865  47.642927  \n",
       "4   B2      BALLARD SOUTH       NW 46TH ST / 8TH AVE NW -122.366195  47.662193  "
      ]
     },
     "execution_count": 6,
     "metadata": {},
     "output_type": "execute_result"
    }
   ],
   "source": [
    "df = pd.read_csv(\"./SPD_Crime_Data__2008-Present_20240925.csv\")\n",
    "df.head()"
   ]
  },
  {
   "cell_type": "markdown",
   "id": "dce68c52-f8ea-4974-9cd9-80be15b90a77",
   "metadata": {},
   "source": [
    "___"
   ]
  },
  {
   "cell_type": "markdown",
   "id": "784996aa-41ee-4970-b7a2-7817defb407b",
   "metadata": {},
   "source": [
    "## **2. Data Cleaning** <a id=\"Data-Cleaning\"></a>"
   ]
  },
  {
   "cell_type": "markdown",
   "id": "82e11caa-17d6-4ef6-9409-a7c5791a348e",
   "metadata": {},
   "source": [
    "### **2.1 Handling Missing Values** <a id=\"Handling-Missing-Values\"></a>\n",
    "Identify and handle missing data. "
   ]
  },
  {
   "cell_type": "code",
   "execution_count": 10,
   "id": "10656960-2af7-4540-a947-06e972e0eb61",
   "metadata": {},
   "outputs": [
    {
     "data": {
      "text/plain": [
       "Report Number                  0\n",
       "Offense ID                     0\n",
       "Offense Start DateTime      1875\n",
       "Offense End DateTime      485327\n",
       "Report DateTime                0\n",
       "Group A B                      0\n",
       "Crime Against Category         0\n",
       "Offense Parent Group           0\n",
       "Offense                        0\n",
       "Offense Code                   0\n",
       "Precinct                       9\n",
       "Sector                         9\n",
       "Beat                           9\n",
       "MCPP                          29\n",
       "100 Block Address          50726\n",
       "Longitude                      0\n",
       "Latitude                       0\n",
       "dtype: int64"
      ]
     },
     "execution_count": 10,
     "metadata": {},
     "output_type": "execute_result"
    }
   ],
   "source": [
    "df.isnull().sum()"
   ]
  },
  {
   "cell_type": "markdown",
   "id": "01599a87-7de4-46af-8211-25afb3629bd7",
   "metadata": {},
   "source": [
    "Here, we can see that 'Report DateTime' column has no missing data. We can utilize this for all the missing data in the 'Offense Start DateTime' column. Furthermore, 'Offense End DateTime' has the most missing data, and this make sense. Sometimes there is no end date/time for an offense. In this project, we are not going to explore too much on the end time of an offense. Therefore, we are going to fill these in with the same time as the 'Offense Start DateTime'. "
   ]
  },
  {
   "cell_type": "code",
   "execution_count": 12,
   "id": "9dedf184-8a9c-4c11-a901-9a9dd409169e",
   "metadata": {},
   "outputs": [
    {
     "data": {
      "text/plain": [
       "Report Number                 0\n",
       "Offense ID                    0\n",
       "Offense Start DateTime        0\n",
       "Offense End DateTime          0\n",
       "Report DateTime               0\n",
       "Group A B                     0\n",
       "Crime Against Category        0\n",
       "Offense Parent Group          0\n",
       "Offense                       0\n",
       "Offense Code                  0\n",
       "Precinct                      9\n",
       "Sector                        9\n",
       "Beat                          9\n",
       "MCPP                         29\n",
       "100 Block Address         50726\n",
       "Longitude                     0\n",
       "Latitude                      0\n",
       "dtype: int64"
      ]
     },
     "execution_count": 12,
     "metadata": {},
     "output_type": "execute_result"
    }
   ],
   "source": [
    "# Fill missing values of Offense Start DateTime with corresponding Report DateTime\n",
    "df['Offense Start DateTime'] = df['Offense Start DateTime'].fillna(df['Report DateTime'])\n",
    "\n",
    "# Fill missing values of Offense End DateTime with corresponding Offense Start DateTime\n",
    "df['Offense End DateTime'] = df['Offense End DateTime'].fillna(df['Offense Start DateTime'])\n",
    "\n",
    "# Check which columns still has missing values\n",
    "df.isnull().sum()"
   ]
  },
  {
   "cell_type": "markdown",
   "id": "d7d32d5d-fe8b-46b9-9ce3-c3d0be44581b",
   "metadata": {},
   "source": [
    "We can continue handling other missing datas. Next, '100 Block Address' column is not too relevant to this project, rather we will focus more on the MCPP (Micro-Community Policing Plans) for the location. As for the other missing values, I am going to fill it with the mode of the column. "
   ]
  },
  {
   "cell_type": "code",
   "execution_count": 14,
   "id": "8cba72f4-cc2a-4acb-a049-6c2569eb945f",
   "metadata": {},
   "outputs": [
    {
     "data": {
      "text/html": [
       "<div>\n",
       "<style scoped>\n",
       "    .dataframe tbody tr th:only-of-type {\n",
       "        vertical-align: middle;\n",
       "    }\n",
       "\n",
       "    .dataframe tbody tr th {\n",
       "        vertical-align: top;\n",
       "    }\n",
       "\n",
       "    .dataframe thead th {\n",
       "        text-align: right;\n",
       "    }\n",
       "</style>\n",
       "<table border=\"1\" class=\"dataframe\">\n",
       "  <thead>\n",
       "    <tr style=\"text-align: right;\">\n",
       "      <th></th>\n",
       "      <th>Report Number</th>\n",
       "      <th>Offense ID</th>\n",
       "      <th>Offense Start DateTime</th>\n",
       "      <th>Offense End DateTime</th>\n",
       "      <th>Report DateTime</th>\n",
       "      <th>Group A B</th>\n",
       "      <th>Crime Against Category</th>\n",
       "      <th>Offense Parent Group</th>\n",
       "      <th>Offense</th>\n",
       "      <th>Offense Code</th>\n",
       "      <th>Precinct</th>\n",
       "      <th>Sector</th>\n",
       "      <th>Beat</th>\n",
       "      <th>MCPP</th>\n",
       "      <th>Longitude</th>\n",
       "      <th>Latitude</th>\n",
       "    </tr>\n",
       "  </thead>\n",
       "  <tbody>\n",
       "    <tr>\n",
       "      <th>0</th>\n",
       "      <td>2020-044620</td>\n",
       "      <td>12605873663</td>\n",
       "      <td>02/05/2020 10:10:00 AM</td>\n",
       "      <td>02/05/2020 10:10:00 AM</td>\n",
       "      <td>02/05/2020 11:24:31 AM</td>\n",
       "      <td>A</td>\n",
       "      <td>SOCIETY</td>\n",
       "      <td>DRUG/NARCOTIC OFFENSES</td>\n",
       "      <td>Drug/Narcotic Violations</td>\n",
       "      <td>35A</td>\n",
       "      <td>W</td>\n",
       "      <td>Q</td>\n",
       "      <td>Q1</td>\n",
       "      <td>MAGNOLIA</td>\n",
       "      <td>-122.385974</td>\n",
       "      <td>47.649387</td>\n",
       "    </tr>\n",
       "    <tr>\n",
       "      <th>1</th>\n",
       "      <td>2020-044452</td>\n",
       "      <td>12605598696</td>\n",
       "      <td>02/03/2020 08:00:00 AM</td>\n",
       "      <td>02/04/2020 08:00:00 AM</td>\n",
       "      <td>02/05/2020 10:06:28 AM</td>\n",
       "      <td>A</td>\n",
       "      <td>PROPERTY</td>\n",
       "      <td>LARCENY-THEFT</td>\n",
       "      <td>Theft of Motor Vehicle Parts or Accessories</td>\n",
       "      <td>23G</td>\n",
       "      <td>N</td>\n",
       "      <td>J</td>\n",
       "      <td>J3</td>\n",
       "      <td>ROOSEVELT/RAVENNA</td>\n",
       "      <td>-122.323399</td>\n",
       "      <td>47.675118</td>\n",
       "    </tr>\n",
       "    <tr>\n",
       "      <th>2</th>\n",
       "      <td>2020-044465</td>\n",
       "      <td>12605567653</td>\n",
       "      <td>02/02/2020 08:30:00 PM</td>\n",
       "      <td>02/02/2020 09:30:00 PM</td>\n",
       "      <td>02/05/2020 09:39:33 AM</td>\n",
       "      <td>A</td>\n",
       "      <td>PROPERTY</td>\n",
       "      <td>ROBBERY</td>\n",
       "      <td>Robbery</td>\n",
       "      <td>120</td>\n",
       "      <td>N</td>\n",
       "      <td>U</td>\n",
       "      <td>U3</td>\n",
       "      <td>ROOSEVELT/RAVENNA</td>\n",
       "      <td>-122.299552</td>\n",
       "      <td>47.666384</td>\n",
       "    </tr>\n",
       "    <tr>\n",
       "      <th>3</th>\n",
       "      <td>2020-044225</td>\n",
       "      <td>12605174036</td>\n",
       "      <td>02/05/2020 01:17:00 AM</td>\n",
       "      <td>02/05/2020 02:21:00 AM</td>\n",
       "      <td>02/05/2020 03:30:55 AM</td>\n",
       "      <td>A</td>\n",
       "      <td>PROPERTY</td>\n",
       "      <td>DESTRUCTION/DAMAGE/VANDALISM OF PROPERTY</td>\n",
       "      <td>Destruction/Damage/Vandalism of Property</td>\n",
       "      <td>290</td>\n",
       "      <td>W</td>\n",
       "      <td>Q</td>\n",
       "      <td>Q1</td>\n",
       "      <td>MAGNOLIA</td>\n",
       "      <td>-122.384865</td>\n",
       "      <td>47.642927</td>\n",
       "    </tr>\n",
       "    <tr>\n",
       "      <th>4</th>\n",
       "      <td>2020-044076</td>\n",
       "      <td>12605081469</td>\n",
       "      <td>02/05/2020 12:51:21 AM</td>\n",
       "      <td>02/05/2020 12:51:21 AM</td>\n",
       "      <td>02/05/2020 12:51:31 AM</td>\n",
       "      <td>B</td>\n",
       "      <td>SOCIETY</td>\n",
       "      <td>DRIVING UNDER THE INFLUENCE</td>\n",
       "      <td>Driving Under the Influence</td>\n",
       "      <td>90D</td>\n",
       "      <td>N</td>\n",
       "      <td>B</td>\n",
       "      <td>B2</td>\n",
       "      <td>BALLARD SOUTH</td>\n",
       "      <td>-122.366195</td>\n",
       "      <td>47.662193</td>\n",
       "    </tr>\n",
       "  </tbody>\n",
       "</table>\n",
       "</div>"
      ],
      "text/plain": [
       "  Report Number   Offense ID  Offense Start DateTime    Offense End DateTime  \\\n",
       "0   2020-044620  12605873663  02/05/2020 10:10:00 AM  02/05/2020 10:10:00 AM   \n",
       "1   2020-044452  12605598696  02/03/2020 08:00:00 AM  02/04/2020 08:00:00 AM   \n",
       "2   2020-044465  12605567653  02/02/2020 08:30:00 PM  02/02/2020 09:30:00 PM   \n",
       "3   2020-044225  12605174036  02/05/2020 01:17:00 AM  02/05/2020 02:21:00 AM   \n",
       "4   2020-044076  12605081469  02/05/2020 12:51:21 AM  02/05/2020 12:51:21 AM   \n",
       "\n",
       "          Report DateTime Group A B Crime Against Category  \\\n",
       "0  02/05/2020 11:24:31 AM         A                SOCIETY   \n",
       "1  02/05/2020 10:06:28 AM         A               PROPERTY   \n",
       "2  02/05/2020 09:39:33 AM         A               PROPERTY   \n",
       "3  02/05/2020 03:30:55 AM         A               PROPERTY   \n",
       "4  02/05/2020 12:51:31 AM         B                SOCIETY   \n",
       "\n",
       "                       Offense Parent Group  \\\n",
       "0                    DRUG/NARCOTIC OFFENSES   \n",
       "1                             LARCENY-THEFT   \n",
       "2                                   ROBBERY   \n",
       "3  DESTRUCTION/DAMAGE/VANDALISM OF PROPERTY   \n",
       "4               DRIVING UNDER THE INFLUENCE   \n",
       "\n",
       "                                       Offense Offense Code Precinct Sector  \\\n",
       "0                     Drug/Narcotic Violations          35A        W      Q   \n",
       "1  Theft of Motor Vehicle Parts or Accessories          23G        N      J   \n",
       "2                                      Robbery          120        N      U   \n",
       "3     Destruction/Damage/Vandalism of Property          290        W      Q   \n",
       "4                  Driving Under the Influence          90D        N      B   \n",
       "\n",
       "  Beat               MCPP   Longitude   Latitude  \n",
       "0   Q1           MAGNOLIA -122.385974  47.649387  \n",
       "1   J3  ROOSEVELT/RAVENNA -122.323399  47.675118  \n",
       "2   U3  ROOSEVELT/RAVENNA -122.299552  47.666384  \n",
       "3   Q1           MAGNOLIA -122.384865  47.642927  \n",
       "4   B2      BALLARD SOUTH -122.366195  47.662193  "
      ]
     },
     "execution_count": 14,
     "metadata": {},
     "output_type": "execute_result"
    }
   ],
   "source": [
    "# Drop '100 Block Address' column\n",
    "df = df.drop('100 Block Address', axis=1)\n",
    "\n",
    "# Fill Precinct, Sector, Beat, and MCPP missing values with the mode of each corresponding column\n",
    "for col in ['Precinct', 'Sector', 'Beat', 'MCPP']:\n",
    "    mode_value = df[col].mode()[0]  # Get the mode of the column\n",
    "    df[col] = df[col].fillna(mode_value)  # Reassign the filled values back to the column\n",
    "\n",
    "df.head()"
   ]
  },
  {
   "cell_type": "code",
   "execution_count": 15,
   "id": "c429d9b7-bb86-4e2c-bd07-729c1f1aa0d0",
   "metadata": {},
   "outputs": [
    {
     "data": {
      "text/plain": [
       "Report Number             0\n",
       "Offense ID                0\n",
       "Offense Start DateTime    0\n",
       "Offense End DateTime      0\n",
       "Report DateTime           0\n",
       "Group A B                 0\n",
       "Crime Against Category    0\n",
       "Offense Parent Group      0\n",
       "Offense                   0\n",
       "Offense Code              0\n",
       "Precinct                  0\n",
       "Sector                    0\n",
       "Beat                      0\n",
       "MCPP                      0\n",
       "Longitude                 0\n",
       "Latitude                  0\n",
       "dtype: int64"
      ]
     },
     "execution_count": 15,
     "metadata": {},
     "output_type": "execute_result"
    }
   ],
   "source": [
    "# Recheck for missing values\n",
    "df.isnull().sum()"
   ]
  },
  {
   "cell_type": "markdown",
   "id": "662ef06a-ad64-46d2-b388-b33bccd5bc6e",
   "metadata": {},
   "source": [
    "### **2.2 Removing Duplicates** <a id=\"Removing-Duplicates\"></a>\n",
    "Remove any duplicate data, if any."
   ]
  },
  {
   "cell_type": "code",
   "execution_count": 17,
   "id": "bd08d347-1e3d-47eb-8f7f-96d76a08c303",
   "metadata": {},
   "outputs": [
    {
     "name": "stdout",
     "output_type": "stream",
     "text": [
      "Number of duplicate rows:  0\n"
     ]
    }
   ],
   "source": [
    "# Check for duplicates\n",
    "duplicates = df.duplicated()\n",
    "print(\"Number of duplicate rows: \", duplicates.sum())"
   ]
  },
  {
   "cell_type": "markdown",
   "id": "84ed8665-50f4-404d-b5b4-e9e40ed80539",
   "metadata": {},
   "source": [
    "### **2.3 Converting Data Types** <a id=\"Converting-Data-Types\"></a>\n",
    "Convert any columns with dates and times into DateTime data type."
   ]
  },
  {
   "cell_type": "code",
   "execution_count": 19,
   "id": "03c81819-f490-487f-9690-252dc7f5c99c",
   "metadata": {},
   "outputs": [
    {
     "name": "stdout",
     "output_type": "stream",
     "text": [
      "<class 'pandas.core.frame.DataFrame'>\n",
      "Index: 1145317 entries, 0 to 1145317\n",
      "Data columns (total 16 columns):\n",
      " #   Column                  Non-Null Count    Dtype         \n",
      "---  ------                  --------------    -----         \n",
      " 0   Report Number           1145317 non-null  object        \n",
      " 1   Offense ID              1145317 non-null  int64         \n",
      " 2   Offense Start DateTime  1145317 non-null  datetime64[ns]\n",
      " 3   Offense End DateTime    1145317 non-null  datetime64[ns]\n",
      " 4   Report DateTime         1145317 non-null  datetime64[ns]\n",
      " 5   Group A B               1145317 non-null  object        \n",
      " 6   Crime Against Category  1145317 non-null  object        \n",
      " 7   Offense Parent Group    1145317 non-null  object        \n",
      " 8   Offense                 1145317 non-null  object        \n",
      " 9   Offense Code            1145317 non-null  object        \n",
      " 10  Precinct                1145317 non-null  object        \n",
      " 11  Sector                  1145317 non-null  object        \n",
      " 12  Beat                    1145317 non-null  object        \n",
      " 13  MCPP                    1145317 non-null  object        \n",
      " 14  Longitude               1145317 non-null  float64       \n",
      " 15  Latitude                1145317 non-null  float64       \n",
      "dtypes: datetime64[ns](3), float64(2), int64(1), object(10)\n",
      "memory usage: 148.5+ MB\n"
     ]
    }
   ],
   "source": [
    "# Change Offense Start DateTime, Offense End DateTime, and Report DateTime to DateTime data type\n",
    "df['Offense Start DateTime'] = pd.to_datetime(df['Offense Start DateTime'], format='%m/%d/%Y %I:%M:%S %p')\n",
    "\n",
    "# There is an incorrect data that was inputted: \"Out of bounds nanosecond timestamp: 05/23/3035 09:00:00 AM\"\n",
    "df = df[~df['Offense End DateTime'].astype(str).str.contains('3035')]  \n",
    "df['Offense End DateTime'] = pd.to_datetime(df['Offense End DateTime'], format='%m/%d/%Y %I:%M:%S %p')\n",
    "\n",
    "# Continue to change to datetime format\n",
    "df['Report DateTime'] = pd.to_datetime(df['Report DateTime'], format='%m/%d/%Y %I:%M:%S %p')\n",
    "\n",
    "# Verify data types\n",
    "df.info()"
   ]
  },
  {
   "cell_type": "markdown",
   "id": "f6f8e649-2101-4cbd-9fc0-f0226b76b66f",
   "metadata": {},
   "source": [
    "While converting the 'Offense End DateTime' column into a datetime data type, there was an incorrect data where the date inputted is a date that has not occured (i.e. the year 3035). I have decided to drop this row to maintain data integrity and accuracy.\n",
    "___"
   ]
  },
  {
   "cell_type": "markdown",
   "id": "da40370a-5ebc-46a9-8436-5cb760eecee2",
   "metadata": {},
   "source": [
    "## **3. Exploratory Data Analysis (EDA)** <a id=\"Exploratory-Data-Analysis\"></a>\n",
    "In this section, we will explore the data further through numbers and plots."
   ]
  },
  {
   "cell_type": "markdown",
   "id": "307e035e-5afe-4919-ba43-c46a1b8baf17",
   "metadata": {},
   "source": [
    "### **3.1 Basic Data Summary** <a id=\"Basic-Data-Summary\"></a>\n",
    "The below shows basic data summaries of Seattle Crimes"
   ]
  },
  {
   "cell_type": "code",
   "execution_count": 116,
   "id": "0b0c5312-de2a-4dc7-ad8a-b72ad7197fc4",
   "metadata": {},
   "outputs": [
    {
     "data": {
      "image/png": "[encoded data removed]",
      "text/plain": [
       "<Figure size 800x600 with 1 Axes>"
      ]
     },
     "metadata": {},
     "output_type": "display_data"
    }
   ],
   "source": [
    "# Categorize offenses less than threshold to be 'Other'\n",
    "threshold = 6000\n",
    "offense_count = df['Offense'].value_counts()\n",
    "offense_count\n",
    "\n",
    "# Categorize offenses to 'Other' if lower than threshold\n",
    "def categorize_offense(offense):\n",
    "    return 'Other' if offense_count[offense] < threshold else offense\n",
    "\n",
    "df['Simplified Offense'] = df['Offense'].apply(categorize_offense)\n",
    "\n",
    "offense_types = df['Simplified Offense'].value_counts().reset_index().sort_values(by='count', ascending=True)\n",
    "\n",
    "# Get the unique offenses from the filtered DataFrame\n",
    "other_offense_list = df[df['Simplified Offense'] == 'Other']['Offense'].unique().tolist()\n",
    "\n",
    "# List of offenses that are categorized into 'Other'\n",
    "# print(other_offense_list)    # Uncomment for printed list\n",
    "\n",
    "# Plot\n",
    "plt.style.use('ggplot')\n",
    "plt.figure(figsize=(8, 6))\n",
    "plt.barh(offense_types['Simplified Offense'], offense_types['count'])\n",
    "plt.title('Distribution of Offenses')\n",
    "plt.ylabel('Offenses')\n",
    "plt.show()"
   ]
  },
  {
   "cell_type": "code",
   "execution_count": null,
   "id": "56ba6508-e1e9-4641-8f0a-6d2e139efcbc",
   "metadata": {},
   "outputs": [],
   "source": []
  }
 ],
 "metadata": {
  "kernelspec": {
   "display_name": "Python 3 (ipykernel)",
   "language": "python",
   "name": "python3"
  },
  "language_info": {
   "codemirror_mode": {
    "name": "ipython",
    "version": 3
   },
   "file_extension": ".py",
   "mimetype": "text/x-python",
   "name": "python",
   "nbconvert_exporter": "python",
   "pygments_lexer": "ipython3",
   "version": "3.12.4"
  }
 },
 "nbformat": 4,
 "nbformat_minor": 5
}
